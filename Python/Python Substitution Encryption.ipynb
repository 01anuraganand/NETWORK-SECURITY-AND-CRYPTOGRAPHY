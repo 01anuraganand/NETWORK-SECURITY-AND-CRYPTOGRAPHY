{
 "cells": [
  {
   "cell_type": "markdown",
   "id": "f60b8fc8",
   "metadata": {},
   "source": [
    "# Ceasar Cipher"
   ]
  },
  {
   "cell_type": "code",
   "execution_count": 1,
   "id": "193851e7",
   "metadata": {},
   "outputs": [],
   "source": [
    "def ceaserE(P, K):\n",
    "    c = \"\"\n",
    "    for ch in P:\n",
    "        a = ord(ch)+ K\n",
    "        if a > 90:\n",
    "            b = a - ord('Z') + ord('A') -1\n",
    "            c = c + chr(b)\n",
    "        else:\n",
    "            c = c+chr(a)\n",
    "    return c\n",
    "\n",
    "def ceaserD(E, K):\n",
    "    p = \"\"\n",
    "    for x in E:\n",
    "        a = ord(x) -K\n",
    "        if a <65:\n",
    "            b = a + ord('Z') -ord('A') +1\n",
    "            p = p+chr(b)\n",
    "        else:\n",
    "            p = p + chr(a)\n",
    "    return p\n",
    "        "
   ]
  },
  {
   "cell_type": "code",
   "execution_count": 2,
   "id": "09b52d62",
   "metadata": {},
   "outputs": [
    {
     "name": "stdout",
     "output_type": "stream",
     "text": [
      "Enter the plain Text:\n",
      "ANURAG ANAND\n",
      "Enter the Key\n",
      "4\n",
      "Encryption : ERYVEK$ERERH\n"
     ]
    }
   ],
   "source": [
    "print(\"Enter the plain Text:\")\n",
    "plainText = input()\n",
    "print(\"Enter the Key\")\n",
    "Key = int(input())\n",
    "E = ceaserE(plainText, Key)\n",
    "print(\"Encryption :\" , E)"
   ]
  },
  {
   "cell_type": "code",
   "execution_count": 3,
   "id": "a6896300",
   "metadata": {},
   "outputs": [
    {
     "name": "stdout",
     "output_type": "stream",
     "text": [
      "Decryption : ANURAG:ANAND\n"
     ]
    }
   ],
   "source": [
    "O = ceaserD(E, Key)\n",
    "print(\"Decryption :\" , O)"
   ]
  },
  {
   "cell_type": "markdown",
   "id": "ed36eef1",
   "metadata": {},
   "source": [
    "# MonoAlpahabet "
   ]
  },
  {
   "cell_type": "code",
   "execution_count": 13,
   "id": "f6d4aefc",
   "metadata": {},
   "outputs": [],
   "source": [
    "replacementDictE = {'A':'Z', 'B':'Y', 'C': 'X', 'D': 'W', 'E': 'V', 'F': 'U', 'G': 'T', 'H': 'S', 'I': 'R', 'J': 'Q', 'K':'P' , 'L': 'O', 'M': 'N', 'N': 'M', 'O': 'L', 'P': 'K', 'Q': 'J', 'R': 'I', 'S': 'H', 'T': 'G', 'U': 'F', 'V': 'E', 'W': 'D', 'X': 'C', 'Y': 'B', 'Z': 'A', ' ': ' '}"
   ]
  },
  {
   "cell_type": "code",
   "execution_count": 14,
   "id": "d31ab6d8",
   "metadata": {},
   "outputs": [],
   "source": [
    "replacementDict = dict([(value, key) for key, value in replacementDictE.items()])"
   ]
  },
  {
   "cell_type": "code",
   "execution_count": 15,
   "id": "a5e8911d",
   "metadata": {},
   "outputs": [],
   "source": [
    "def MonoAlphabetE(plainText, replacementDictE):\n",
    "    e = \"\"\n",
    "    for ch in pt:\n",
    "        e += replacementDict[ch]\n",
    "    return e\n",
    "\n",
    "def MonoAlphabetD(EncryptedText, replacementDict):\n",
    "    o = \"\"\n",
    "    for ch in EncryptedText:\n",
    "        o += replacementDict[ch]\n",
    "    return o"
   ]
  },
  {
   "cell_type": "code",
   "execution_count": 16,
   "id": "efd35fea",
   "metadata": {},
   "outputs": [
    {
     "name": "stdout",
     "output_type": "stream",
     "text": [
      "Enter the plain text:\n",
      "ANURAG ANAND\n",
      "Encrypted text: ZMFIZT ZMZMW\n",
      "Decrypted Text: ANURAG ANAND\n"
     ]
    }
   ],
   "source": [
    "print(\"Enter the plain text:\")\n",
    "pt= input()\n",
    "E = MonoAlphabetE(pt,replacementDictE)\n",
    "print(\"Encrypted text:\",E )\n",
    "print(\"Decrypted Text:\", MonoAlphabetD(E, replacementDict))"
   ]
  },
  {
   "cell_type": "code",
   "execution_count": null,
   "id": "63b8c3d7",
   "metadata": {},
   "outputs": [],
   "source": []
  },
  {
   "cell_type": "markdown",
   "id": "4a38c625",
   "metadata": {},
   "source": [
    "# GCD"
   ]
  },
  {
   "cell_type": "code",
   "execution_count": 17,
   "id": "0f112b95",
   "metadata": {},
   "outputs": [
    {
     "data": {
      "text/plain": [
       "2"
      ]
     },
     "execution_count": 17,
     "metadata": {},
     "output_type": "execute_result"
    }
   ],
   "source": [
    "import math\n",
    "math.gcd(12, 2)"
   ]
  },
  {
   "cell_type": "code",
   "execution_count": null,
   "id": "eba1a828",
   "metadata": {},
   "outputs": [],
   "source": [
    "#Q: Take plain text and divide it into parts then reverse the substring and then encrypted using ceasar cipher"
   ]
  },
  {
   "cell_type": "code",
   "execution_count": null,
   "id": "6d338aa5",
   "metadata": {},
   "outputs": [],
   "source": [
    "def encrypt(plaintext, key):\n",
    "    size = int(len(plaintext)/2)\n",
    "    print(size)\n",
    "    ptl = plaintext[size::-1]\n",
    "    ptr = plaintext[len(plaintext): size:-1]\n",
    "    \n",
    "    pt = ptl+ptr\n",
    "    print(\"Reverse :\", pt)\n",
    "    \n",
    "    \n",
    "    \n",
    "    return ceaserE(pt, key)\n",
    "    "
   ]
  },
  {
   "cell_type": "code",
   "execution_count": 21,
   "id": "6cea859e",
   "metadata": {},
   "outputs": [
    {
     "name": "stdout",
     "output_type": "stream",
     "text": [
      "Enter the plain text:\n"
     ]
    },
    {
     "ename": "KeyboardInterrupt",
     "evalue": "Interrupted by user",
     "output_type": "error",
     "traceback": [
      "\u001b[1;31m---------------------------------------------------------------------------\u001b[0m",
      "\u001b[1;31mKeyboardInterrupt\u001b[0m                         Traceback (most recent call last)",
      "Input \u001b[1;32mIn [21]\u001b[0m, in \u001b[0;36m<cell line: 2>\u001b[1;34m()\u001b[0m\n\u001b[0;32m      1\u001b[0m \u001b[38;5;28mprint\u001b[39m(\u001b[38;5;124m\"\u001b[39m\u001b[38;5;124mEnter the plain text:\u001b[39m\u001b[38;5;124m\"\u001b[39m)\n\u001b[1;32m----> 2\u001b[0m plaintext \u001b[38;5;241m=\u001b[39m \u001b[38;5;28;43minput\u001b[39;49m\u001b[43m(\u001b[49m\u001b[43m)\u001b[49m\n\u001b[0;32m      3\u001b[0m \u001b[38;5;28mprint\u001b[39m(\u001b[38;5;124m\"\u001b[39m\u001b[38;5;124mEnter the key:\u001b[39m\u001b[38;5;124m\"\u001b[39m)\n\u001b[0;32m      4\u001b[0m key \u001b[38;5;241m=\u001b[39m \u001b[38;5;28mint\u001b[39m(\u001b[38;5;28minput\u001b[39m())\n",
      "File \u001b[1;32mC:\\Python310\\lib\\site-packages\\ipykernel\\kernelbase.py:1177\u001b[0m, in \u001b[0;36mKernel.raw_input\u001b[1;34m(self, prompt)\u001b[0m\n\u001b[0;32m   1173\u001b[0m \u001b[38;5;28;01mif\u001b[39;00m \u001b[38;5;129;01mnot\u001b[39;00m \u001b[38;5;28mself\u001b[39m\u001b[38;5;241m.\u001b[39m_allow_stdin:\n\u001b[0;32m   1174\u001b[0m     \u001b[38;5;28;01mraise\u001b[39;00m StdinNotImplementedError(\n\u001b[0;32m   1175\u001b[0m         \u001b[38;5;124m\"\u001b[39m\u001b[38;5;124mraw_input was called, but this frontend does not support input requests.\u001b[39m\u001b[38;5;124m\"\u001b[39m\n\u001b[0;32m   1176\u001b[0m     )\n\u001b[1;32m-> 1177\u001b[0m \u001b[38;5;28;01mreturn\u001b[39;00m \u001b[38;5;28;43mself\u001b[39;49m\u001b[38;5;241;43m.\u001b[39;49m\u001b[43m_input_request\u001b[49m\u001b[43m(\u001b[49m\n\u001b[0;32m   1178\u001b[0m \u001b[43m    \u001b[49m\u001b[38;5;28;43mstr\u001b[39;49m\u001b[43m(\u001b[49m\u001b[43mprompt\u001b[49m\u001b[43m)\u001b[49m\u001b[43m,\u001b[49m\n\u001b[0;32m   1179\u001b[0m \u001b[43m    \u001b[49m\u001b[38;5;28;43mself\u001b[39;49m\u001b[38;5;241;43m.\u001b[39;49m\u001b[43m_parent_ident\u001b[49m\u001b[43m[\u001b[49m\u001b[38;5;124;43m\"\u001b[39;49m\u001b[38;5;124;43mshell\u001b[39;49m\u001b[38;5;124;43m\"\u001b[39;49m\u001b[43m]\u001b[49m\u001b[43m,\u001b[49m\n\u001b[0;32m   1180\u001b[0m \u001b[43m    \u001b[49m\u001b[38;5;28;43mself\u001b[39;49m\u001b[38;5;241;43m.\u001b[39;49m\u001b[43mget_parent\u001b[49m\u001b[43m(\u001b[49m\u001b[38;5;124;43m\"\u001b[39;49m\u001b[38;5;124;43mshell\u001b[39;49m\u001b[38;5;124;43m\"\u001b[39;49m\u001b[43m)\u001b[49m\u001b[43m,\u001b[49m\n\u001b[0;32m   1181\u001b[0m \u001b[43m    \u001b[49m\u001b[43mpassword\u001b[49m\u001b[38;5;241;43m=\u001b[39;49m\u001b[38;5;28;43;01mFalse\u001b[39;49;00m\u001b[43m,\u001b[49m\n\u001b[0;32m   1182\u001b[0m \u001b[43m\u001b[49m\u001b[43m)\u001b[49m\n",
      "File \u001b[1;32mC:\\Python310\\lib\\site-packages\\ipykernel\\kernelbase.py:1219\u001b[0m, in \u001b[0;36mKernel._input_request\u001b[1;34m(self, prompt, ident, parent, password)\u001b[0m\n\u001b[0;32m   1216\u001b[0m             \u001b[38;5;28;01mbreak\u001b[39;00m\n\u001b[0;32m   1217\u001b[0m \u001b[38;5;28;01mexcept\u001b[39;00m \u001b[38;5;167;01mKeyboardInterrupt\u001b[39;00m:\n\u001b[0;32m   1218\u001b[0m     \u001b[38;5;66;03m# re-raise KeyboardInterrupt, to truncate traceback\u001b[39;00m\n\u001b[1;32m-> 1219\u001b[0m     \u001b[38;5;28;01mraise\u001b[39;00m \u001b[38;5;167;01mKeyboardInterrupt\u001b[39;00m(\u001b[38;5;124m\"\u001b[39m\u001b[38;5;124mInterrupted by user\u001b[39m\u001b[38;5;124m\"\u001b[39m) \u001b[38;5;28;01mfrom\u001b[39;00m \u001b[38;5;28mNone\u001b[39m\n\u001b[0;32m   1220\u001b[0m \u001b[38;5;28;01mexcept\u001b[39;00m \u001b[38;5;167;01mException\u001b[39;00m:\n\u001b[0;32m   1221\u001b[0m     \u001b[38;5;28mself\u001b[39m\u001b[38;5;241m.\u001b[39mlog\u001b[38;5;241m.\u001b[39mwarning(\u001b[38;5;124m\"\u001b[39m\u001b[38;5;124mInvalid Message:\u001b[39m\u001b[38;5;124m\"\u001b[39m, exc_info\u001b[38;5;241m=\u001b[39m\u001b[38;5;28;01mTrue\u001b[39;00m)\n",
      "\u001b[1;31mKeyboardInterrupt\u001b[0m: Interrupted by user"
     ]
    }
   ],
   "source": [
    "print(\"Enter the plain text:\")\n",
    "plaintext = input()\n",
    "print(\"Enter the key:\")\n",
    "key = int(input())\n",
    "print(encrypt(plaintext, key))"
   ]
  },
  {
   "cell_type": "code",
   "execution_count": null,
   "id": "e3a22af4",
   "metadata": {},
   "outputs": [],
   "source": []
  }
 ],
 "metadata": {
  "kernelspec": {
   "display_name": "Python 3 (ipykernel)",
   "language": "python",
   "name": "python3"
  },
  "language_info": {
   "codemirror_mode": {
    "name": "ipython",
    "version": 3
   },
   "file_extension": ".py",
   "mimetype": "text/x-python",
   "name": "python",
   "nbconvert_exporter": "python",
   "pygments_lexer": "ipython3",
   "version": "3.10.4"
  }
 },
 "nbformat": 4,
 "nbformat_minor": 5
}
