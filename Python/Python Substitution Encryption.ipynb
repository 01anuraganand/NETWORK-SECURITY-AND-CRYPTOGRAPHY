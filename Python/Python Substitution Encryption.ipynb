{
 "cells": [
  {
   "cell_type": "markdown",
   "id": "f60b8fc8",
   "metadata": {},
   "source": [
    "# Ceasar Cipher"
   ]
  },
  {
   "cell_type": "code",
   "execution_count": 1,
   "id": "193851e7",
   "metadata": {},
   "outputs": [],
   "source": [
    "def ceaserE(P, K):\n",
    "    c = \"\"\n",
    "    for ch in P:\n",
    "        a = ord(ch)+ K\n",
    "        if a > 90:\n",
    "            b = a - ord('Z') + ord('A') -1\n",
    "            c = c + chr(b)\n",
    "        else:\n",
    "            c = c+chr(a)\n",
    "    return c\n",
    "\n",
    "def ceaserD(E, K):\n",
    "    p = \"\"\n",
    "    for x in E:\n",
    "        a = ord(x) -K\n",
    "        if a <65:\n",
    "            b = a + ord('Z') -ord('A') +1\n",
    "            p = p+chr(b)\n",
    "        else:\n",
    "            p = p + chr(a)\n",
    "    return p\n",
    "        "
   ]
  },
  {
   "cell_type": "code",
   "execution_count": 2,
   "id": "09b52d62",
   "metadata": {},
   "outputs": [
    {
     "name": "stdout",
     "output_type": "stream",
     "text": [
      "Enter the plain Text:\n",
      "ANURAG ANAND\n",
      "Enter the Key\n",
      "3\n",
      "Encryption : DQXUDJ#DQDQG\n"
     ]
    }
   ],
   "source": [
    "print(\"Enter the plain Text:\")\n",
    "plainText = input()\n",
    "print(\"Enter the Key\")\n",
    "Key = int(input())\n",
    "E = ceaserE(plainText, Key)\n",
    "print(\"Encryption :\" , E)"
   ]
  },
  {
   "cell_type": "code",
   "execution_count": 3,
   "id": "a6896300",
   "metadata": {},
   "outputs": [
    {
     "name": "stdout",
     "output_type": "stream",
     "text": [
      "Decryption : ANURAG:ANAND\n"
     ]
    }
   ],
   "source": [
    "O = ceaserD(E, Key)\n",
    "print(\"Decryption :\" , O)"
   ]
  },
  {
   "cell_type": "markdown",
   "id": "ed36eef1",
   "metadata": {},
   "source": [
    "# MonoAlpahabet "
   ]
  },
  {
   "cell_type": "code",
   "execution_count": 4,
   "id": "f6d4aefc",
   "metadata": {},
   "outputs": [],
   "source": [
    "replacementDictE = {'A':'Z', 'B':'Y', 'C': 'X', 'D': 'W', 'E': 'V', 'F': 'U', 'G': 'T', 'H': 'S', 'I': 'R', 'J': 'Q', 'K':'P' , 'L': 'O', 'M': 'N', 'N': 'M', 'O': 'L', 'P': 'K', 'Q': 'J', 'R': 'I', 'S': 'H', 'T': 'G', 'U': 'F', 'V': 'E', 'W': 'D', 'X': 'C', 'Y': 'B', 'Z': 'A', ' ': ' '}"
   ]
  },
  {
   "cell_type": "code",
   "execution_count": 5,
   "id": "d31ab6d8",
   "metadata": {},
   "outputs": [],
   "source": [
    "replacementDict = dict([(value, key) for key, value in replacementDictE.items()])"
   ]
  },
  {
   "cell_type": "code",
   "execution_count": 6,
   "id": "a5e8911d",
   "metadata": {},
   "outputs": [],
   "source": [
    "def MonoAlphabetE(plainText, replacementDictE):\n",
    "    e = \"\"\n",
    "    for ch in pt:\n",
    "        e += replacementDict[ch]\n",
    "    return e\n",
    "\n",
    "def MonoAlphabetD(EncryptedText, replacementDict):\n",
    "    o = \"\"\n",
    "    for ch in EncryptedText:\n",
    "        o += replacementDict[ch]\n",
    "    return o"
   ]
  },
  {
   "cell_type": "code",
   "execution_count": 7,
   "id": "efd35fea",
   "metadata": {},
   "outputs": [
    {
     "name": "stdout",
     "output_type": "stream",
     "text": [
      "Enter the plain text:\n",
      "ANURAG ANAND\n",
      "Encrypted text: ZMFIZT ZMZMW\n",
      "Decrypted Text: ANURAG ANAND\n"
     ]
    }
   ],
   "source": [
    "print(\"Enter the plain text:\")\n",
    "pt= input()\n",
    "E = MonoAlphabetE(pt,replacementDictE)\n",
    "print(\"Encrypted text:\",E )\n",
    "print(\"Decrypted Text:\", MonoAlphabetD(E, replacementDict))"
   ]
  },
  {
   "cell_type": "code",
   "execution_count": null,
   "id": "63b8c3d7",
   "metadata": {},
   "outputs": [],
   "source": []
  },
  {
   "cell_type": "markdown",
   "id": "4a38c625",
   "metadata": {},
   "source": [
    "# GCD"
   ]
  },
  {
   "cell_type": "code",
   "execution_count": 8,
   "id": "0f112b95",
   "metadata": {},
   "outputs": [
    {
     "data": {
      "text/plain": [
       "2"
      ]
     },
     "execution_count": 8,
     "metadata": {},
     "output_type": "execute_result"
    }
   ],
   "source": [
    "import math\n",
    "math.gcd(12, 2)"
   ]
  },
  {
   "cell_type": "code",
   "execution_count": 9,
   "id": "eba1a828",
   "metadata": {},
   "outputs": [],
   "source": [
    "#Q: Take plain text and divide it into parts then reverse the substring and then encrypted using ceasar cipher"
   ]
  },
  {
   "cell_type": "code",
   "execution_count": 10,
   "id": "6d338aa5",
   "metadata": {},
   "outputs": [],
   "source": [
    "def encrypt(plaintext, key):\n",
    "    size = int(len(plaintext)/2)\n",
    "    print(size)\n",
    "    ptl = plaintext[size::-1]\n",
    "    ptr = plaintext[len(plaintext): size:-1]\n",
    "    \n",
    "    pt = ptl+ptr\n",
    "    print(\"Reverse :\", pt)\n",
    "    \n",
    "    \n",
    "    \n",
    "    return ceaserE(pt, key)\n",
    "    "
   ]
  },
  {
   "cell_type": "code",
   "execution_count": 11,
   "id": "6cea859e",
   "metadata": {},
   "outputs": [
    {
     "name": "stdout",
     "output_type": "stream",
     "text": [
      "Enter the plain text:\n",
      "ANURAG ANAND\n",
      "Enter the key:\n",
      "45\n",
      "6\n",
      "Reverse :  GARUNADNANA\n",
      "MZTehaTWaTaT\n"
     ]
    }
   ],
   "source": [
    "print(\"Enter the plain text:\")\n",
    "plaintext = input()\n",
    "print(\"Enter the key:\")\n",
    "key = int(input())\n",
    "print(encrypt(plaintext, key))"
   ]
  },
  {
   "cell_type": "code",
   "execution_count": null,
   "id": "e3a22af4",
   "metadata": {},
   "outputs": [],
   "source": []
  }
 ],
 "metadata": {
  "kernelspec": {
   "display_name": "Python 3 (ipykernel)",
   "language": "python",
   "name": "python3"
  },
  "language_info": {
   "codemirror_mode": {
    "name": "ipython",
    "version": 3
   },
   "file_extension": ".py",
   "mimetype": "text/x-python",
   "name": "python",
   "nbconvert_exporter": "python",
   "pygments_lexer": "ipython3",
   "version": "3.10.4"
  }
 },
 "nbformat": 4,
 "nbformat_minor": 5
}
