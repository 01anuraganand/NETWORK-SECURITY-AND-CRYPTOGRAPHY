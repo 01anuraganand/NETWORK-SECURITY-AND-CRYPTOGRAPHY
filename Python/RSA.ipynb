{
 "cells": [
  {
   "cell_type": "markdown",
   "id": "fe9161b7",
   "metadata": {},
   "source": [
    "## RSA"
   ]
  },
  {
   "cell_type": "code",
   "execution_count": 1,
   "id": "c86de817",
   "metadata": {},
   "outputs": [],
   "source": [
    "import rsa"
   ]
  },
  {
   "cell_type": "markdown",
   "id": "60b51cac",
   "metadata": {},
   "source": [
    "- Generate public and private key"
   ]
  },
  {
   "cell_type": "code",
   "execution_count": 2,
   "id": "d13776a4",
   "metadata": {},
   "outputs": [],
   "source": [
    "(publicKey, privateKey) = rsa.newkeys(512)"
   ]
  },
  {
   "cell_type": "code",
   "execution_count": 3,
   "id": "04994054",
   "metadata": {},
   "outputs": [
    {
     "name": "stdout",
     "output_type": "stream",
     "text": [
      "Public Key: PublicKey(7965648649341398152884535440622775729507574024853436960169007601339123947374998426925237523963298480950156954922579447077953101472768860402779848810199957, 65537)\n"
     ]
    }
   ],
   "source": [
    "print(\"Public Key:\", publicKey)"
   ]
  },
  {
   "cell_type": "code",
   "execution_count": 4,
   "id": "7ef7b530",
   "metadata": {},
   "outputs": [
    {
     "name": "stdout",
     "output_type": "stream",
     "text": [
      "Private Key: PrivateKey(7965648649341398152884535440622775729507574024853436960169007601339123947374998426925237523963298480950156954922579447077953101472768860402779848810199957, 65537, 7679898005054939708686120151230460766355884040074908338270578670036984991123751571767134775876143941091598968633813145379120205128658168711643766640335001, 5943711324662340918936999820510195414570730912471273534974090314566023742079672923, 1340180943224715311797538826343140717863866271092783720988609404386532559)\n"
     ]
    }
   ],
   "source": [
    "print(\"Private Key:\", privateKey)"
   ]
  },
  {
   "cell_type": "markdown",
   "id": "8c2c3f8a",
   "metadata": {},
   "source": [
    "- Encrypted text"
   ]
  },
  {
   "cell_type": "code",
   "execution_count": 5,
   "id": "20bccebe",
   "metadata": {},
   "outputs": [
    {
     "name": "stdout",
     "output_type": "stream",
     "text": [
      "Cipher text: b'd\\xa1D$\\xdf,\\x18uA\\xb5\\xa1\\x13`%\\\\@i7\\xf6H8\\x80\\xccr\\xa3\\xf1\\xcb\\x0b~]tkA7\\xca\\x07\\x8by\\xf7V\\xd52\\x1b\\xb2\\xd8CY;8@w\\xb5\\xc3#\\xc3\\xcd\\x17\\xbf&\\xb0\\xd6v\\xde!'\n"
     ]
    }
   ],
   "source": [
    "message = \"anurag anand\".encode('utf8')\n",
    "cipher_text = rsa.encrypt(message, publicKey)\n",
    "print(\"Cipher text:\", cipher_text)"
   ]
  },
  {
   "cell_type": "markdown",
   "id": "d121e7ba",
   "metadata": {},
   "source": [
    "- Decrypted text"
   ]
  },
  {
   "cell_type": "code",
   "execution_count": 8,
   "id": "c278db54",
   "metadata": {},
   "outputs": [
    {
     "name": "stdout",
     "output_type": "stream",
     "text": [
      "Original text: anurag anand\n"
     ]
    }
   ],
   "source": [
    "original_text = rsa.decrypt(cipher_text, privateKey)\n",
    "print(\"Original text:\", original_text.decode())"
   ]
  },
  {
   "cell_type": "markdown",
   "id": "616eb102",
   "metadata": {},
   "source": [
    "# RSA with"
   ]
  },
  {
   "cell_type": "code",
   "execution_count": 7,
   "id": "0f261e98",
   "metadata": {},
   "outputs": [
    {
     "name": "stdout",
     "output_type": "stream",
     "text": [
      "Text written in file:\n",
      "---------------------\n",
      "\n",
      "this is file\n",
      "\n",
      "message , encrypted text and original text:\n",
      "-------------------------------------------\n",
      "this is file\n",
      "\n",
      "b'\\xdd\\xe1L\\x0c\\xd4j\\xfe4|J\\x95\\xefI@b\\x10\\xfb\\xd8\\xa1\\xdb\\xd8\\xd1U\\xc2C0\\x12\\rh\\xceK\\x0c\\x9dy;\\x88g\\x1b\\xe0H\\xca4E\\x1e \\xd3\\xf7Lp\\x15\\xac}\\x0c\\xcf]|\\x82\\xab.0\\x86\\x02m\\xdf'\n",
      "this is file\n",
      "\n"
     ]
    }
   ],
   "source": [
    "def rsa_with_file(filename, key_size):\n",
    "    with open (filename, \"r\") as f:\n",
    "        data = f.readlines()\n",
    "        print(\"Text written in file:\")\n",
    "        print(\"---------------------\\n\")\n",
    "        plain_text = \"\"\n",
    "        for line in data:\n",
    "            print(line, end = \"\")\n",
    "            plain_text += line;\n",
    "    \n",
    "    (public_key, private_key) = rsa.newkeys(key_size)\n",
    "    message = plain_text.encode('utf8')\n",
    "    encrypted_text = rsa.encrypt(message, public_key)\n",
    "\n",
    "    with open (filename, 'a') as f:\n",
    "        f.write(str(encrypted_text))\n",
    "        f.write(\"\\n\")\n",
    "   \n",
    "    decrypted_text = rsa.decrypt(encrypted_text, private_key)\n",
    "    with open (filename, 'a') as f:\n",
    "        f.write(decrypted_text.decode())\n",
    "    \n",
    "    print(\"message , encrypted text and original text:\")\n",
    "    print(\"-------------------------------------------\")\n",
    "    with open (filename, 'r') as f:\n",
    "        data = f.readlines()\n",
    "        for line in data:\n",
    "            print(line , end = \"\")\n",
    "    \n",
    "rsa_with_file(\"rsafile.txt\", 512)"
   ]
  },
  {
   "cell_type": "code",
   "execution_count": null,
   "id": "8db19eea",
   "metadata": {},
   "outputs": [],
   "source": []
  }
 ],
 "metadata": {
  "kernelspec": {
   "display_name": "Python 3 (ipykernel)",
   "language": "python",
   "name": "python3"
  },
  "language_info": {
   "codemirror_mode": {
    "name": "ipython",
    "version": 3
   },
   "file_extension": ".py",
   "mimetype": "text/x-python",
   "name": "python",
   "nbconvert_exporter": "python",
   "pygments_lexer": "ipython3",
   "version": "3.10.4"
  }
 },
 "nbformat": 4,
 "nbformat_minor": 5
}
