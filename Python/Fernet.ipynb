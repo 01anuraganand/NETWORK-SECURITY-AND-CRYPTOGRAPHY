{
 "cells": [
  {
   "cell_type": "code",
   "execution_count": 1,
   "id": "afc2f5d7",
   "metadata": {},
   "outputs": [],
   "source": [
    "import cryptography\n",
    "from cryptography.fernet import Fernet\n",
    "key = Fernet.generate_key()\n",
    "f = Fernet(key)"
   ]
  },
  {
   "cell_type": "code",
   "execution_count": 2,
   "id": "4c9ae0cd",
   "metadata": {},
   "outputs": [
    {
     "name": "stdout",
     "output_type": "stream",
     "text": [
      "Eenter your plain text: ANURAG ANAND\n",
      "b'gAAAAABkQipcBPjNXsmI_pZdss_vmGiagAJG7gPVVfgD-HRKTMYhBgITtMNGjzzhxoifqe8MWxzmf0zwv6KxIn1p1tzsCLUiHQ=='\n"
     ]
    }
   ],
   "source": [
    "plain_text = input(\"Eenter your plain text: \").encode()\n",
    "cipher_text = f.encrypt(plain_text)\n",
    "print(cipher_text)"
   ]
  },
  {
   "cell_type": "code",
   "execution_count": 3,
   "id": "e9204d4c",
   "metadata": {},
   "outputs": [
    {
     "name": "stdout",
     "output_type": "stream",
     "text": [
      "b'ANURAG ANAND'\n"
     ]
    }
   ],
   "source": [
    "original_text = f.decrypt(cipher_text)\n",
    "print(original_text)"
   ]
  }
 ],
 "metadata": {
  "kernelspec": {
   "display_name": "Python 3 (ipykernel)",
   "language": "python",
   "name": "python3"
  },
  "language_info": {
   "codemirror_mode": {
    "name": "ipython",
    "version": 3
   },
   "file_extension": ".py",
   "mimetype": "text/x-python",
   "name": "python",
   "nbconvert_exporter": "python",
   "pygments_lexer": "ipython3",
   "version": "3.10.4"
  }
 },
 "nbformat": 4,
 "nbformat_minor": 5
}
