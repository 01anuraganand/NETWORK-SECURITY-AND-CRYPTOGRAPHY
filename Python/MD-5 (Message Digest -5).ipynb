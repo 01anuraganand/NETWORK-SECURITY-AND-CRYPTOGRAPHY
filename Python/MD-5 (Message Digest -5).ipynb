{
 "cells": [
  {
   "cell_type": "markdown",
   "id": "d0e31235",
   "metadata": {},
   "source": [
    "# MD-5"
   ]
  },
  {
   "cell_type": "markdown",
   "id": "b833be2c",
   "metadata": {},
   "source": [
    "- Padding"
   ]
  },
  {
   "cell_type": "code",
   "execution_count": 3,
   "id": "745009e7",
   "metadata": {},
   "outputs": [],
   "source": [
    "def padding(n):\n",
    "    i = 1;\n",
    "    while(512*i -64 <= n):\n",
    "        i += 1\n",
    "    print(512*i -64 - n)"
   ]
  },
  {
   "cell_type": "code",
   "execution_count": 4,
   "id": "55b80bf3",
   "metadata": {},
   "outputs": [
    {
     "name": "stdout",
     "output_type": "stream",
     "text": [
      "748\n"
     ]
    }
   ],
   "source": [
    "string = 'welcome'\n",
    "ascii = 0\n",
    "for ch in string:\n",
    "    ascii += ord(ch)\n",
    "print(ascii)"
   ]
  },
  {
   "cell_type": "code",
   "execution_count": null,
   "id": "c24e0625",
   "metadata": {},
   "outputs": [],
   "source": []
  }
 ],
 "metadata": {
  "kernelspec": {
   "display_name": "Python 3 (ipykernel)",
   "language": "python",
   "name": "python3"
  },
  "language_info": {
   "codemirror_mode": {
    "name": "ipython",
    "version": 3
   },
   "file_extension": ".py",
   "mimetype": "text/x-python",
   "name": "python",
   "nbconvert_exporter": "python",
   "pygments_lexer": "ipython3",
   "version": "3.10.4"
  }
 },
 "nbformat": 4,
 "nbformat_minor": 5
}
