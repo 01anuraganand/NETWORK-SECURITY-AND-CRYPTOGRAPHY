{
 "cells": [
  {
   "cell_type": "code",
   "execution_count": 1,
   "id": "bf6a7dca",
   "metadata": {},
   "outputs": [],
   "source": [
    "def isPrime(q):\n",
    "    count = 0;\n",
    "    for i in range(1, q+1):\n",
    "        if q % i == 0:\n",
    "            count +=1;\n",
    "    return count == 2;\n",
    "    "
   ]
  },
  {
   "cell_type": "code",
   "execution_count": 3,
   "id": "3dd3ad0e",
   "metadata": {},
   "outputs": [],
   "source": [
    "def DiffieHellman():\n",
    "    a = int(input(\"Enter the a : \")) #g\n",
    "    q = int(input(\"Enter the q : \")) #p p>>>>g\n",
    "    \n",
    "    if q>a:\n",
    "        if isPrime(q):\n",
    "            print(\"Prime\")\n",
    "            Xa=int(input(\"Alice Select a private secret Xa : \"))\n",
    "            Xb=int(input(\"Bob Select a private secret Xb : \"))\n",
    "            \n",
    "            Ya = (a**(Xa))%q\n",
    "            Yb = (a**(Xb))%q\n",
    "            \n",
    "            print(\"Computed Respective Public Key:\", Ya, Yb)\n",
    "            # Share x,y\n",
    "            with open(\"Alice.txt\",\"a\") as f:\n",
    "                f.write(str(Ya)+\"\\n\")\n",
    "            with open(\"Bob.txt\",\"a\") as f:\n",
    "                f.write(str(Yb)+\"\\n\")\n",
    "            \n",
    "            Kab = (Yb**(Xa))%q\n",
    "            Kba = (Ya**(Xb))%q\n",
    "            \n",
    "            print(\"ka :  {} \\t kb : {}\".format(Kab,Kba))"
   ]
  },
  {
   "cell_type": "code",
   "execution_count": 4,
   "id": "a980f537",
   "metadata": {},
   "outputs": [
    {
     "name": "stdout",
     "output_type": "stream",
     "text": [
      "Enter the a : 3\n",
      "Enter the q : 353\n",
      "Prime\n",
      "Alice Select a private secret Xa : 97\n",
      "Bob Select a private secret Xb : 233\n",
      "Computed Respective Public Key: 40 248\n",
      "ka :  160 \t kb : 160\n"
     ]
    }
   ],
   "source": [
    "DiffieHellman()"
   ]
  }
 ],
 "metadata": {
  "kernelspec": {
   "display_name": "Python 3 (ipykernel)",
   "language": "python",
   "name": "python3"
  },
  "language_info": {
   "codemirror_mode": {
    "name": "ipython",
    "version": 3
   },
   "file_extension": ".py",
   "mimetype": "text/x-python",
   "name": "python",
   "nbconvert_exporter": "python",
   "pygments_lexer": "ipython3",
   "version": "3.10.4"
  }
 },
 "nbformat": 4,
 "nbformat_minor": 5
}
